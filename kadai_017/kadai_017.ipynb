{
  "nbformat": 4,
  "nbformat_minor": 0,
  "metadata": {
    "colab": {
      "provenance": []
    },
    "kernelspec": {
      "name": "python3",
      "display_name": "Python 3"
    },
    "language_info": {
      "name": "python"
    }
  },
  "cells": [
    {
      "cell_type": "code",
      "execution_count": 1,
      "metadata": {
        "colab": {
          "base_uri": "https://localhost:8080/"
        },
        "id": "EPWwcPPGsNqi",
        "outputId": "b4ec5328-f6ba-4fe5-d19d-b17676045775"
      },
      "outputs": [
        {
          "output_type": "stream",
          "name": "stdout",
          "text": [
            "たかしは大人ではありません\n",
            "さとしは大人です\n",
            "えりは大人です\n"
          ]
        }
      ],
      "source": [
        "class Human:\n",
        "  def __init__(self , name ,age):\n",
        "    self.name = name\n",
        "    self.age = age\n",
        "\n",
        "  def check_adult(self):\n",
        "    if self.age >= 20:\n",
        "      print(f\"{self.name}は大人です\")\n",
        "    else:\n",
        "      print(f\"{self.name}は大人ではありません\")\n",
        "\n",
        "human1 = Human(\"たかし\",19)\n",
        "human2 = Human(\"さとし\",20)\n",
        "human3 = Human(\"えり\",21)\n",
        "humans = [human1, human2, human3]\n",
        "for human in humans:\n",
        "  human.check_adult()"
      ]
    }
  ]
}