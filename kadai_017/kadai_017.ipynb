{
  "nbformat": 4,
  "nbformat_minor": 0,
  "metadata": {
    "colab": {
      "provenance": []
    },
    "kernelspec": {
      "name": "python3",
      "display_name": "Python 3"
    },
    "language_info": {
      "name": "python"
    }
  },
  "cells": [
    {
      "cell_type": "code",
      "execution_count": null,
      "metadata": {
        "id": "EPWwcPPGsNqi"
      },
      "outputs": [],
      "source": [
        "class Human:\n",
        "  def __init__(self , name ,age):\n",
        "    self.name = name\n",
        "    self.age = age\n",
        "\n",
        "  def check_adult(self):\n",
        "    if self.age >= 20:\n",
        "      print(f\"{self.name}は大人です\")\n",
        "    else:\n",
        "      print(f\"{self.name}は大人ではありません\")\n",
        "\n",
        "members = {\"たかし\" : 19 , \"さとし\" : 20 ,\"えり\" : 21}\n",
        "for key , value in members.items():\n",
        "  human = Human(key,value)\n",
        "  human.check_adult()"
      ]
    }
  ]
}