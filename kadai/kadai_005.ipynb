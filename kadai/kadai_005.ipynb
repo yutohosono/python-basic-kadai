{
  "nbformat": 4,
  "nbformat_minor": 0,
  "metadata": {
    "colab": {
      "provenance": []
    },
    "kernelspec": {
      "name": "python3",
      "display_name": "Python 3"
    },
    "language_info": {
      "name": "python"
    }
  },
  "cells": [
    {
      "cell_type": "code",
      "source": [
        "\n",
        "\n",
        "jouhen = 10\n",
        "kahen  = 20\n",
        "takasa = 5\n",
        "\n",
        "menseki = ( jouhen + kahen ) * takasa / 2\n",
        "print('台形の面積は' + str(menseki) + '㎠です')"
      ],
      "metadata": {
        "id": "5JE2o8jaqEIY",
        "colab": {
          "base_uri": "https://localhost:8080/"
        },
        "outputId": "ee202093-8c00-4712-9588-05e9b93da37e"
      },
      "execution_count": 5,
      "outputs": [
        {
          "output_type": "stream",
          "name": "stdout",
          "text": [
            "台形の面積は75.0㎠です\n"
          ]
        }
      ]
    },
    {
      "cell_type": "code",
      "source": [],
      "metadata": {
        "id": "4TG-euKvaVNZ"
      },
      "execution_count": null,
      "outputs": []
    }
  ]
}