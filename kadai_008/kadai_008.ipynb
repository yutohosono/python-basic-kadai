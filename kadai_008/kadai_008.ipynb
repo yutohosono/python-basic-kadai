{
  "nbformat": 4,
  "nbformat_minor": 0,
  "metadata": {
    "colab": {
      "provenance": []
    },
    "kernelspec": {
      "name": "python3",
      "display_name": "Python 3"
    },
    "language_info": {
      "name": "python"
    }
  },
  "cells": [
    {
      "cell_type": "code",
      "execution_count": 5,
      "metadata": {
        "colab": {
          "base_uri": "https://localhost:8080/"
        },
        "id": "iRSBGh_pnuQ1",
        "outputId": "f29b1e9a-da40-4331-c1d4-ecda6f282cc8"
      },
      "outputs": [
        {
          "output_type": "stream",
          "name": "stdout",
          "text": [
            "4\n"
          ]
        }
      ],
      "source": [
        "var = 4\n",
        "if var % 3 == 0 and var % 5 == 0:\n",
        "  print('FizzBuzz')\n",
        "elif var % 3 == 0:\n",
        "  print('Fizz')\n",
        "elif var % 5 == 0:\n",
        "  print('Buzz')\n",
        "else :\n",
        "  print(var)"
      ]
    }
  ]
}