{
  "nbformat": 4,
  "nbformat_minor": 0,
  "metadata": {
    "colab": {
      "provenance": []
    },
    "kernelspec": {
      "name": "python3",
      "display_name": "Python 3"
    },
    "language_info": {
      "name": "python"
    }
  },
  "cells": [
    {
      "cell_type": "code",
      "execution_count": 2,
      "metadata": {
        "colab": {
          "base_uri": "https://localhost:8080/"
        },
        "id": "8ErCYRNAiRCO",
        "outputId": "a22d90af-7b25-4268-b0b6-937e7df7f590"
      },
      "outputs": [
        {
          "output_type": "stream",
          "name": "stdout",
          "text": [
            "水曜日は晴れです\n",
            "晴れ\n"
          ]
        }
      ],
      "source": [
        "array = ['月曜日は晴れです','火曜日は雨です','水曜日は晴れです','木曜日は晴れです','金曜日は曇りです','土曜日は曇りのち雨です','日曜日は雷雨です']\n",
        "dictionary = {\"mon\" : \"晴れ\", \"tue\" : \"雨\" ,\"wed\" : \"晴れ\",\"thu\" : \"晴れ\", \"fri\" : \"曇り\",\"sat\" : \"曇りのち雨\" , \"sun\" : \"雷雨\"}\n",
        "print(array[2])\n",
        "print(dictionary[\"wed\"])"
      ]
    }
  ]
}